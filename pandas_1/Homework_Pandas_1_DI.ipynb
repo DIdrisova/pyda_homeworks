{
 "cells": [
  {
   "cell_type": "markdown",
   "metadata": {},
   "source": [
    "## Домашнее задание «Библиотека Pandas»\n",
    "\n",
    "# Задание 1\n",
    "Скачайте с сайта https://grouplens.org/datasets/movielens/ датасет любого размера. Определите какому фильму было выставлено больше всего оценок 5.0."
   ]
  },
  {
   "cell_type": "code",
   "execution_count": 1,
   "metadata": {},
   "outputs": [],
   "source": [
    "import pandas as pd"
   ]
  },
  {
   "cell_type": "code",
   "execution_count": 2,
   "metadata": {},
   "outputs": [
    {
     "data": {
      "text/html": [
       "<div>\n",
       "<style scoped>\n",
       "    .dataframe tbody tr th:only-of-type {\n",
       "        vertical-align: middle;\n",
       "    }\n",
       "\n",
       "    .dataframe tbody tr th {\n",
       "        vertical-align: top;\n",
       "    }\n",
       "\n",
       "    .dataframe thead th {\n",
       "        text-align: right;\n",
       "    }\n",
       "</style>\n",
       "<table border=\"1\" class=\"dataframe\">\n",
       "  <thead>\n",
       "    <tr style=\"text-align: right;\">\n",
       "      <th></th>\n",
       "      <th>userId</th>\n",
       "      <th>movieId</th>\n",
       "      <th>rating</th>\n",
       "      <th>timestamp</th>\n",
       "    </tr>\n",
       "  </thead>\n",
       "  <tbody>\n",
       "    <tr>\n",
       "      <th>0</th>\n",
       "      <td>1</td>\n",
       "      <td>1</td>\n",
       "      <td>4.0</td>\n",
       "      <td>964982703</td>\n",
       "    </tr>\n",
       "    <tr>\n",
       "      <th>1</th>\n",
       "      <td>1</td>\n",
       "      <td>3</td>\n",
       "      <td>4.0</td>\n",
       "      <td>964981247</td>\n",
       "    </tr>\n",
       "    <tr>\n",
       "      <th>2</th>\n",
       "      <td>1</td>\n",
       "      <td>6</td>\n",
       "      <td>4.0</td>\n",
       "      <td>964982224</td>\n",
       "    </tr>\n",
       "    <tr>\n",
       "      <th>3</th>\n",
       "      <td>1</td>\n",
       "      <td>47</td>\n",
       "      <td>5.0</td>\n",
       "      <td>964983815</td>\n",
       "    </tr>\n",
       "    <tr>\n",
       "      <th>4</th>\n",
       "      <td>1</td>\n",
       "      <td>50</td>\n",
       "      <td>5.0</td>\n",
       "      <td>964982931</td>\n",
       "    </tr>\n",
       "  </tbody>\n",
       "</table>\n",
       "</div>"
      ],
      "text/plain": [
       "   userId  movieId  rating  timestamp\n",
       "0       1        1     4.0  964982703\n",
       "1       1        3     4.0  964981247\n",
       "2       1        6     4.0  964982224\n",
       "3       1       47     5.0  964983815\n",
       "4       1       50     5.0  964982931"
      ]
     },
     "execution_count": 2,
     "metadata": {},
     "output_type": "execute_result"
    }
   ],
   "source": [
    "# открываю файл с рейтингами - смотрю\n",
    "ratings = pd.read_csv('ml-latest-small/ratings.csv')\n",
    "ratings.head()"
   ]
  },
  {
   "cell_type": "code",
   "execution_count": 3,
   "metadata": {},
   "outputs": [
    {
     "name": "stdout",
     "output_type": "stream",
     "text": [
      "<class 'pandas.core.frame.DataFrame'>\n",
      "RangeIndex: 100836 entries, 0 to 100835\n",
      "Data columns (total 4 columns):\n",
      " #   Column     Non-Null Count   Dtype  \n",
      "---  ------     --------------   -----  \n",
      " 0   userId     100836 non-null  int64  \n",
      " 1   movieId    100836 non-null  int64  \n",
      " 2   rating     100836 non-null  float64\n",
      " 3   timestamp  100836 non-null  int64  \n",
      "dtypes: float64(1), int64(3)\n",
      "memory usage: 3.1 MB\n"
     ]
    }
   ],
   "source": [
    "# смотрю информацию о столбцах в файле с рейтингами\n",
    "ratings.info()"
   ]
  },
  {
   "cell_type": "code",
   "execution_count": 4,
   "metadata": {},
   "outputs": [
    {
     "data": {
      "text/plain": [
       "318"
      ]
     },
     "execution_count": 4,
     "metadata": {},
     "output_type": "execute_result"
    }
   ],
   "source": [
    "# нахожу id фильма с наибольшим количеством оценок среди строк с рейтингом 5.0\n",
    "rating_5 = ratings[ratings.rating == 5]\n",
    "max_5_rating = rating_5['movieId'].value_counts().head(1)\n",
    "best_movie_id = int(max_5_rating.keys()[0])\n",
    "best_movie_id"
   ]
  },
  {
   "cell_type": "code",
   "execution_count": 6,
   "metadata": {},
   "outputs": [
    {
     "data": {
      "text/html": [
       "<div>\n",
       "<style scoped>\n",
       "    .dataframe tbody tr th:only-of-type {\n",
       "        vertical-align: middle;\n",
       "    }\n",
       "\n",
       "    .dataframe tbody tr th {\n",
       "        vertical-align: top;\n",
       "    }\n",
       "\n",
       "    .dataframe thead th {\n",
       "        text-align: right;\n",
       "    }\n",
       "</style>\n",
       "<table border=\"1\" class=\"dataframe\">\n",
       "  <thead>\n",
       "    <tr style=\"text-align: right;\">\n",
       "      <th></th>\n",
       "      <th>movieId</th>\n",
       "      <th>title</th>\n",
       "      <th>genres</th>\n",
       "    </tr>\n",
       "  </thead>\n",
       "  <tbody>\n",
       "    <tr>\n",
       "      <th>277</th>\n",
       "      <td>318</td>\n",
       "      <td>Shawshank Redemption, The (1994)</td>\n",
       "      <td>Crime|Drama</td>\n",
       "    </tr>\n",
       "  </tbody>\n",
       "</table>\n",
       "</div>"
      ],
      "text/plain": [
       "     movieId                             title       genres\n",
       "277      318  Shawshank Redemption, The (1994)  Crime|Drama"
      ]
     },
     "execution_count": 6,
     "metadata": {},
     "output_type": "execute_result"
    }
   ],
   "source": [
    "# открываю файл с фильмами, выбираю строку, которая соответвует найденному выше id фильма с наибольшим количеством оценок 5.0\n",
    "movies = pd.read_csv('ml-latest-small/movies.csv')\n",
    "movies[movies.movieId == best_movie_id].head()"
   ]
  },
  {
   "cell_type": "markdown",
   "metadata": {},
   "source": [
    "# Задание 2\n",
    "По данным файла power.csv посчитайте суммарное потребление стран Прибалтики (Латвия, Литва и Эстония) категорий 4, 12 и 21 за период с 2005 по 2010 года. Не учитывайте в расчетах отрицательные значения quantity."
   ]
  },
  {
   "cell_type": "code",
   "execution_count": 8,
   "metadata": {},
   "outputs": [],
   "source": [
    "# открываю файл\n",
    "power = pd.read_csv('power.csv')"
   ]
  },
  {
   "cell_type": "code",
   "execution_count": 9,
   "metadata": {},
   "outputs": [
    {
     "name": "stdout",
     "output_type": "stream",
     "text": [
      "<class 'pandas.core.frame.DataFrame'>\n",
      "RangeIndex: 1189482 entries, 0 to 1189481\n",
      "Data columns (total 4 columns):\n",
      " #   Column    Non-Null Count    Dtype  \n",
      "---  ------    --------------    -----  \n",
      " 0   country   1189482 non-null  object \n",
      " 1   year      1189482 non-null  int64  \n",
      " 2   quantity  1189482 non-null  float64\n",
      " 3   category  1189482 non-null  int64  \n",
      "dtypes: float64(1), int64(2), object(1)\n",
      "memory usage: 36.3+ MB\n"
     ]
    }
   ],
   "source": [
    "# смотрю информацию о столбцах в файле\n",
    "power.info()"
   ]
  },
  {
   "cell_type": "code",
   "execution_count": 10,
   "metadata": {},
   "outputs": [
    {
     "data": {
      "text/plain": [
       "array(['Austria', 'Belgium', 'Czechia', 'Finland', 'France', 'Greece',\n",
       "       'Hungary', 'Italy', 'Korea, Republic of', 'Netherlands', 'Romania',\n",
       "       'Serbia', 'Slovakia', 'Ukraine', 'United Kingdom', 'United States',\n",
       "       'Brunei Darussalam', 'Bulgaria', 'Canada', 'Chile', 'Croatia',\n",
       "       'Iran (Islamic Rep. of)', 'Jordan', 'Lithuania', 'Mexico', 'Oman',\n",
       "       'Other Asia', 'Poland', 'Portugal', 'Spain', 'Sweden',\n",
       "       'Switzerland', 'T.F.Yug.Rep. Macedonia', 'Turkey', 'Uzbekistan',\n",
       "       'Argentina', 'Colombia', 'Germany', 'Norway', 'Australia',\n",
       "       'China, Macao SAR', 'Japan', 'Denmark', 'Ireland', 'Philippines',\n",
       "       'Bangladesh', 'Eritrea', 'Ethiopia', 'Lesotho', 'Nepal', 'Niger',\n",
       "       'Pakistan', 'Serbia and Montenegro', 'Tunisia', 'Botswana',\n",
       "       'Georgia', 'Republic of Moldova', 'Peru', 'South Africa',\n",
       "       'Iceland', 'Latvia', 'Luxembourg', 'Cuba', 'Kyrgyzstan',\n",
       "       'Singapore', 'Thailand', 'United Arab Emirates', 'Uruguay',\n",
       "       'Armenia', 'Fiji', \"Korea, Dem.Ppl's.Rep.\", 'Russian Federation',\n",
       "       'Swaziland', 'Zimbabwe', 'Afghanistan', 'Antigua and Barbuda',\n",
       "       'Azerbaijan', 'Bahamas', 'Belize', 'Bolivia (Plur. State of)',\n",
       "       'Brazil', 'Burkina Faso', 'Cameroon', 'Cayman Islands',\n",
       "       'Central African Rep.', 'China', 'Comoros', 'Congo', 'Costa Rica',\n",
       "       \"Côte d'Ivoire\", 'Dem. Rep. of the Congo', 'Dominican Republic',\n",
       "       'Ecuador', 'Egypt', 'El Salvador', 'Estonia',\n",
       "       'Ethiopia, incl. Eritrea', 'Faeroe Islands', 'French Guiana',\n",
       "       'Germany, Fed. R. (former)', 'Greenland', 'Guatemala', 'Guinea',\n",
       "       'Guyana', 'Honduras', 'Indonesia', 'Israel', 'Jamaica', 'Jersey',\n",
       "       'Kazakhstan', 'Kenya', 'Kuwait', \"Lao People's Dem. Rep.\",\n",
       "       'Liberia', 'Libya', 'Malawi', 'Malaysia', 'Maldives', 'Mauritania',\n",
       "       'Mayotte', 'Morocco', 'Myanmar', 'Namibia', 'New Caledonia',\n",
       "       'New Zealand', 'Nicaragua', 'Niue', 'Panama', 'Papua New Guinea',\n",
       "       'Paraguay', 'Sao Tome and Principe', 'Senegal', 'Seychelles',\n",
       "       'Slovenia', 'Solomon Islands', 'Sri Lanka', 'Sudan (former)',\n",
       "       'Suriname', 'Togo', 'Tonga', 'Trinidad and Tobago',\n",
       "       'United Rep. of Tanzania', 'Venezuela (Bolivar. Rep.)',\n",
       "       'Yugoslavia, SFR (former)', 'Zambia', 'Algeria', 'Curaçao',\n",
       "       'Gabon', 'Malta', 'Neth. Antilles (former)', 'Sierra Leone',\n",
       "       'USSR (former)', 'Barbados', 'Benin', 'Chad', 'Djibouti',\n",
       "       'French Polynesia', 'Ghana', 'Grenada', 'Guadeloupe', 'Haiti',\n",
       "       'Iraq', 'Kiribati', 'Madagascar', 'Mali', 'Martinique',\n",
       "       'Pacific Islands (former)', 'Palau', 'St. Helena and Depend.',\n",
       "       'St. Vincent-Grenadines', 'Syrian Arab Republic', 'Uganda',\n",
       "       'Yemen', 'Yemen, Dem. (former)', 'Burundi', 'India', 'Mauritius',\n",
       "       'Mozambique', 'Nigeria', 'Réunion', 'Rwanda', 'Samoa', 'Somalia',\n",
       "       'St. Kitts-Nevis', 'Viet Nam', 'Belarus', 'Cyprus', 'Cabo Verde',\n",
       "       'Albania', 'Bahrain', 'Bosnia and Herzegovina',\n",
       "       'China, Hong Kong SAR', 'Czechoslovakia (former)', 'Angola',\n",
       "       'Bermuda', 'Bhutan', 'Equatorial Guinea', 'Lebanon',\n",
       "       'Saudi Arabia', 'St. Lucia', 'St. Pierre-Miquelon',\n",
       "       'State of Palestine', 'Tajikistan', 'German Dem. R. (former)',\n",
       "       'Anguilla', 'Mongolia', 'Montenegro', 'Cambodia', 'South Sudan',\n",
       "       'Sudan', 'Andorra', 'Aruba', 'Bonaire, St Eustatius, Saba',\n",
       "       'British Virgin Islands', 'Dominica', 'Falkland Is. (Malvinas)',\n",
       "       'Gambia', 'Gibraltar', 'Qatar', 'Sint Maarten (Dutch part)',\n",
       "       'Turkmenistan', 'Turks and Caicos Islands', 'Vanuatu',\n",
       "       'Guinea-Bissau', 'Micronesia (Fed. States of)', 'Timor-Leste',\n",
       "       'Yemen Arab Rep. (former)', 'American Samoa', 'Liechtenstein',\n",
       "       'Puerto Rico', 'Cook Islands', 'Guam', 'Guernsey', 'Isle of Man',\n",
       "       'Marshall Islands', 'Montserrat', 'Nauru',\n",
       "       'Northern Mariana Islands', 'Tuvalu', 'United States Virgin Is.',\n",
       "       'Wallis and Futuna Is.',\n",
       "       'Commonwealth of Independent States (CIS)', 'Antarctic Fisheries'],\n",
       "      dtype=object)"
      ]
     },
     "execution_count": 10,
     "metadata": {},
     "output_type": "execute_result"
    }
   ],
   "source": [
    "# смотрю список уникальных стран в файле - необязательный шаг\n",
    "power['country'].unique()"
   ]
  },
  {
   "cell_type": "code",
   "execution_count": 11,
   "metadata": {},
   "outputs": [
    {
     "data": {
      "text/plain": [
       "array([1996, 1995, 2014, 2013, 2012, 2011, 2010, 2009, 1998, 2008, 2007,\n",
       "       2006, 2005, 2004, 2003, 2002, 2001, 2000, 1999, 1997, 1994, 1993,\n",
       "       1992, 1991, 1990], dtype=int64)"
      ]
     },
     "execution_count": 11,
     "metadata": {},
     "output_type": "execute_result"
    }
   ],
   "source": [
    "# смотрю, какие года есть в файле - необязательный шаг\n",
    "power['year'].unique()"
   ]
  },
  {
   "cell_type": "code",
   "execution_count": 12,
   "metadata": {},
   "outputs": [
    {
     "name": "stdout",
     "output_type": "stream",
     "text": [
      "Суммарное потребление стран Прибалтики: 240580.0\n"
     ]
    }
   ],
   "source": [
    "# фильтрую файл по условиям по стране, годам, категориям и неотрицательным значениям quantity (все условия обязательные)\n",
    "# в отфильтрованном датафрейме считаю сумму по столбцу quantity - вывожу ответ\n",
    "filtered_power = power[ ((power['country']=='Lithuania') | (power['country']=='Latvia') | (power['country']=='Estonia')) \n",
    "                           & ((power['year']>=2005) &  (power['year']<=2010))\n",
    "                           & ((power['category']==4) | (power['category']==12) | (power['category']==21))\n",
    "                           &(power['quantity']>0)]\n",
    "\n",
    "power_sum = filtered_power['quantity'].sum()\n",
    "print(f'Суммарное потребление стран Прибалтики: {power_sum}')"
   ]
  },
  {
   "cell_type": "markdown",
   "metadata": {},
   "source": [
    "# Задание 3 \n",
    "Выберите страницу любого сайта с табличными данными. Импортируйте таблицы в pandas dataframe. Примеры страниц (необязательно брать именно эти): https://fortrader.org/quotes https://www.finanz.ru/valyuty/v-realnom-vremeni"
   ]
  },
  {
   "cell_type": "code",
   "execution_count": 17,
   "metadata": {},
   "outputs": [],
   "source": [
    "# Импортирую нужную страницу в data_#, указываю блок и кодировку \n",
    "page_url_1 = 'https://www.finanz.ru/valyuty/v-realnom-vremeni'\n",
    "dataframe_1 = pd.read_html(page_url_1, attrs = {'class': 'quote_list'}, encoding='utf-8')"
   ]
  },
  {
   "cell_type": "code",
   "execution_count": 22,
   "metadata": {},
   "outputs": [
    {
     "data": {
      "text/plain": [
       "[    Unnamed: 0              Рубль  Предложение  Спрос  Предыдущее закрытие  \\\n",
       " 0          NaN            GBP/RUB      1020274      -              1020564   \n",
       " 1          NaN            EUR/RUB       892485      -               893945   \n",
       " 2          NaN            USD/RUB       736500      -               736765   \n",
       " 3          NaN            JPY/RUB        07018      -                07020   \n",
       " 4          NaN            CNY/RUB       114042      -               114049   \n",
       " 5          NaN            CHF/RUB       826071      -               825914   \n",
       " 6          NaN               Евро  Предложение  Спрос  Предыдущее закрытие   \n",
       " 7          NaN            EUR/USD        12120      -                12136   \n",
       " 8          NaN            EUR/GBP        08783      -                08781   \n",
       " 9          NaN            EUR/JPY      1272200      -              1271950   \n",
       " 10         NaN            EUR/CHF        10807      -                10800   \n",
       " 11         NaN         Доллар США  Предложение  Спрос  Предыдущее закрытие   \n",
       " 12         NaN            USD/EUR        08251      -                08251   \n",
       " 13         NaN            USD/GBP        07219      -                07217   \n",
       " 14         NaN            USD/JPY      1049400      -              1047560   \n",
       " 15         NaN            USD/CHF        08916      -                08914   \n",
       " 16         NaN      Японская иена  Предложение  Спрос  Предыдущее закрытие   \n",
       " 17         NaN    JPY/EUR (100:1)        07900      -                07900   \n",
       " 18         NaN            JPY/GBP        00069      -                00069   \n",
       " 19         NaN            JPY/USD        00095      -                00095   \n",
       " 20         NaN    JPY/CHF (100:1)        08500      -                08500   \n",
       " 21         NaN    Фунт стерлингов  Предложение  Спрос  Предыдущее закрытие   \n",
       " 22         NaN            GBP/USD        13853      -                13853   \n",
       " 23         NaN            GBP/JPY      1453734      -              1453702   \n",
       " 24         NaN            GBP/EUR        11430      -                11387   \n",
       " 25         NaN            GBP/CHF        12345      -                12294   \n",
       " 26         NaN  Швейцарский франк  Предложение  Спрос  Предыдущее закрытие   \n",
       " 27         NaN            GBP/CHF        12345      -                12294   \n",
       " 28         NaN            EUR/CHF        10807      -                10800   \n",
       " 29         NaN    JPY/CHF (100:1)        08500      -                08500   \n",
       " 30         NaN            USD/CHF        08916      -                08914   \n",
       " 31         NaN  Украинская гривна  Предложение  Спрос  Предыдущее закрытие   \n",
       " 32         NaN            EUR/UAH       338741      -               338617   \n",
       " 33         NaN            USD/UAH       279500      -               279398   \n",
       " 34         NaN            CHF/UAH       313493      -               313297   \n",
       " 35         NaN            GBP/UAH       387192      -               387134   \n",
       " \n",
       "           %  Абсолютное значение       Время  \n",
       " 0   -0,03 %               -00290  13.02.2021  \n",
       " 1   -0,16 %               -01460  13.02.2021  \n",
       " 2   -0,04 %               -00265  13.02.2021  \n",
       " 3   -0,03 %               -00002  13.02.2021  \n",
       " 4   -0,01 %               -00007  13.02.2021  \n",
       " 5    0,02 %                00157  13.02.2021  \n",
       " 6         %  Абсолютное значение       Время  \n",
       " 7   -0,13 %               -00016  13.02.2021  \n",
       " 8    0,02 %                00002  13.02.2021  \n",
       " 9    0,02 %                00250  13.02.2021  \n",
       " 10   0,06 %                00007  13.02.2021  \n",
       " 11        %  Абсолютное значение       Время  \n",
       " 12   0,00 %                00000  13.02.2021  \n",
       " 13   0,02 %                00002  13.02.2021  \n",
       " 14   0,18 %                01840  13.02.2021  \n",
       " 15   0,02 %                00002  13.02.2021  \n",
       " 16        %  Абсолютное значение       Время  \n",
       " 17  -0,02 %                00000  13.02.2021  \n",
       " 18   0,00 %                00000  13.02.2021  \n",
       " 19  -0,02 %                00000  13.02.2021  \n",
       " 20  -0,01 %                00000  13.02.2021  \n",
       " 21        %  Абсолютное значение       Время  \n",
       " 22   0,00 %                00000  13.02.2021  \n",
       " 23   0,00 %                00032  13.02.2021  \n",
       " 24   0,38 %                00043  13.02.2021  \n",
       " 25   0,42 %                00051  13.02.2021  \n",
       " 26        %  Абсолютное значение       Время  \n",
       " 27   0,42 %                00051  13.02.2021  \n",
       " 28   0,06 %                00007  13.02.2021  \n",
       " 29  -0,01 %                00000  13.02.2021  \n",
       " 30   0,02 %                00002  13.02.2021  \n",
       " 31        %  Абсолютное значение       Время  \n",
       " 32   0,04 %                00124  13.02.2021  \n",
       " 33   0,04 %                00102  13.02.2021  \n",
       " 34   0,06 %                00196  13.02.2021  \n",
       " 35   0,02 %                00058  13.02.2021  ]"
      ]
     },
     "execution_count": 22,
     "metadata": {},
     "output_type": "execute_result"
    }
   ],
   "source": [
    "dataframe_1[:5]"
   ]
  },
  {
   "cell_type": "code",
   "execution_count": 19,
   "metadata": {},
   "outputs": [],
   "source": [
    "# Импортирую нужную страницу в data_#, указываю блок и кодировку \n",
    "page_url_2 = 'https://www.cbr.ru/currency_base/daily/'\n",
    "dataframe_2 = pd.read_html(page_url_2, attrs = {'class': 'data'}, encoding='utf-8')"
   ]
  },
  {
   "cell_type": "code",
   "execution_count": 21,
   "metadata": {
    "scrolled": true
   },
   "outputs": [
    {
     "data": {
      "text/plain": [
       "[    Цифр. код Букв. код  Единиц                                    Валюта  \\\n",
       " 0          36       AUD       1                      Австралийский доллар   \n",
       " 1         944       AZN       1                     Азербайджанский манат   \n",
       " 2          51       AMD     100                          Армянских драмов   \n",
       " 3         933       BYN       1                         Белорусский рубль   \n",
       " 4         975       BGN       1                            Болгарский лев   \n",
       " 5         986       BRL       1                          Бразильский реал   \n",
       " 6         348       HUF     100                       Венгерских форинтов   \n",
       " 7         410       KRW    1000                      Вон Республики Корея   \n",
       " 8         344       HKD      10                      Гонконгских долларов   \n",
       " 9         208       DKK       1                             Датская крона   \n",
       " 10        840       USD       1                                Доллар США   \n",
       " 11        978       EUR       1                                      Евро   \n",
       " 12        356       INR      10                           Индийских рупий   \n",
       " 13        398       KZT     100                       Казахстанских тенге   \n",
       " 14        124       CAD       1                          Канадский доллар   \n",
       " 15        417       KGS     100                          Киргизских сомов   \n",
       " 16        156       CNY       1                            Китайский юань   \n",
       " 17        498       MDL      10                           Молдавских леев   \n",
       " 18        934       TMT       1                   Новый туркменский манат   \n",
       " 19        578       NOK      10                           Норвежских крон   \n",
       " 20        985       PLN       1                           Польский злотый   \n",
       " 21        946       RON       1                             Румынский лей   \n",
       " 22        960       XDR       1     СДР (специальные права заимствования)   \n",
       " 23        702       SGD       1                       Сингапурский доллар   \n",
       " 24        972       TJS      10                         Таджикских сомони   \n",
       " 25        949       TRY       1                             Турецкая лира   \n",
       " 26        860       UZS   10000                           Узбекских сумов   \n",
       " 27        980       UAH      10                         Украинских гривен   \n",
       " 28        826       GBP       1  Фунт стерлингов Соединенного королевства   \n",
       " 29        203       CZK      10                              Чешских крон   \n",
       " 30        752       SEK      10                             Шведских крон   \n",
       " 31        756       CHF       1                         Швейцарский франк   \n",
       " 32        710       ZAR      10                    Южноафриканских рэндов   \n",
       " 33        392       JPY     100                              Японских иен   \n",
       " \n",
       "        Курс  \n",
       " 0    571983  \n",
       " 1    435184  \n",
       " 2    141089  \n",
       " 3    286281  \n",
       " 4    457734  \n",
       " 5    137769  \n",
       " 6    249289  \n",
       " 7    669051  \n",
       " 8    953655  \n",
       " 9    120377  \n",
       " 10   739378  \n",
       " 11   896052  \n",
       " 12   101565  \n",
       " 13   176362  \n",
       " 14   580405  \n",
       " 15   877942  \n",
       " 16   114487  \n",
       " 17   424430  \n",
       " 18   211553  \n",
       " 19   869703  \n",
       " 20   198784  \n",
       " 21   183623  \n",
       " 22  1066479  \n",
       " 23   557012  \n",
       " 24   648862  \n",
       " 25   105161  \n",
       " 26   702110  \n",
       " 27   265653  \n",
       " 28  1019824  \n",
       " 29   347967  \n",
       " 30   886874  \n",
       " 31   829550  \n",
       " 32   503670  \n",
       " 33   704337  ]"
      ]
     },
     "execution_count": 21,
     "metadata": {},
     "output_type": "execute_result"
    }
   ],
   "source": [
    "dataframe_2[:5]"
   ]
  }
 ],
 "metadata": {
  "kernelspec": {
   "display_name": "Python 3",
   "language": "python",
   "name": "python3"
  },
  "language_info": {
   "codemirror_mode": {
    "name": "ipython",
    "version": 3
   },
   "file_extension": ".py",
   "mimetype": "text/x-python",
   "name": "python",
   "nbconvert_exporter": "python",
   "pygments_lexer": "ipython3",
   "version": "3.8.5"
  }
 },
 "nbformat": 4,
 "nbformat_minor": 4
}
