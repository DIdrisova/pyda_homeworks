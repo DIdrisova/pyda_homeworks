{
 "cells": [
  {
   "cell_type": "markdown",
   "metadata": {},
   "source": [
    "## Домашнее задание к лекции Работа с файловой системой и модули"
   ]
  },
  {
   "cell_type": "markdown",
   "metadata": {},
   "source": [
    "### Задание №1 \n",
    "\n",
    "Переведите содержимое файла purchase_log.txt в словарь purchases вида:\n",
    "{‘1840e0b9d4’: ‘Продукты’, …}"
   ]
  },
  {
   "cell_type": "code",
   "execution_count": 5,
   "metadata": {},
   "outputs": [
    {
     "name": "stdout",
     "output_type": "stream",
     "text": [
      "Complete\n"
     ]
    }
   ],
   "source": [
    "# Задание 1\n",
    "# словарь вида {‘1840e0b9d4’: ‘Продукты’, …} для чтения python; заголовок из файла исключен\n",
    "import json\n",
    "i = 0\n",
    "purchase_dict = dict()\n",
    "with open('purchase_log.txt',  'r', encoding='utf-8') as file:\n",
    "    for line in file:\n",
    "        dict_ = json.loads(line)\n",
    "        if i > 0:\n",
    "            purchase_dict [dict_['user_id']] = dict_['category']\n",
    "\n",
    "        \n",
    "        i += 1\n",
    "print('Complete')"
   ]
  },
  {
   "cell_type": "markdown",
   "metadata": {},
   "source": [
    "### Задание №2\n",
    "Для каждого user_id в файле visit_log.csv определите третий столбец с категорией покупки (если покупка была, сам файл visit_log.csv изменять не надо). Запишите в файл funnel.csv визиты из файла visit_log.csv, в которых были покупки с указанием категории.\n",
    "Учтите условия на данные:\n",
    "содержимое purchase_log.txt помещается в оперативную память компьютера\n",
    "содержимое visit_log.csv - нет; используйте только построчную обработку этого файла"
   ]
  },
  {
   "cell_type": "code",
   "execution_count": 7,
   "metadata": {},
   "outputs": [
    {
     "name": "stdout",
     "output_type": "stream",
     "text": [
      "Complete\n",
      "Time for execution, sec: 0.24503111839294434\n"
     ]
    }
   ],
   "source": [
    "# Задание 2 - Решение с использованием словаря из задания №1.\n",
    "# Счетчик времени исполнения добавлен для удобства в процессе решения\n",
    "import time\n",
    "start_time = time.time() # to measure time for execution\n",
    "\n",
    "import json\n",
    "with open('visit_log.csv', 'r') as visits:\n",
    "    with open('funnel.csv', 'w', encoding='utf-8') as results:\n",
    "        i = 0\n",
    "                    \n",
    "        for visit in visits:\n",
    "            user_id, source = visit.split(',')\n",
    "            if (user_id in purchase_dict and purchase_dict[user_id] != 'не определена'):\n",
    "                results.write(visit.strip('\\n')+','+str(purchase_dict[user_id])+'\\n')\n",
    "                i += 1\n",
    "\n",
    "\n",
    "print('Complete')\n",
    "print('Time for execution, sec: '+str(time.time() - start_time)) # to measure time for execution"
   ]
  }
 ],
 "metadata": {
  "kernelspec": {
   "display_name": "Python 3",
   "language": "python",
   "name": "python3"
  },
  "language_info": {
   "codemirror_mode": {
    "name": "ipython",
    "version": 3
   },
   "file_extension": ".py",
   "mimetype": "text/x-python",
   "name": "python",
   "nbconvert_exporter": "python",
   "pygments_lexer": "ipython3",
   "version": "3.8.5"
  }
 },
 "nbformat": 4,
 "nbformat_minor": 4
}
