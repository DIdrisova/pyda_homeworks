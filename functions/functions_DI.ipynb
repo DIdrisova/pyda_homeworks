{
 "cells": [
  {
   "cell_type": "code",
   "execution_count": 1,
   "metadata": {},
   "outputs": [],
   "source": [
    "documents = [\n",
    " {'type': 'passport', 'number': '2207 876234', 'name': 'Василий Гупкин'},\n",
    " {'type': 'invoice', 'number': '11-2', 'name': 'Геннадий Покемонов'},\n",
    " {'type': 'insurance', 'number': '10006', 'name': 'Аристарх Павлов'}\n",
    "]\n",
    "\n",
    "directories = {\n",
    " '1': ['2207 876234', '11-2'],\n",
    " '2': ['10006'],\n",
    " '3': []\n",
    "}"
   ]
  },
  {
   "cell_type": "code",
   "execution_count": 3,
   "metadata": {},
   "outputs": [],
   "source": [
    "def not_found (search_result):\n",
    "    \"\"\"\n",
    "    Выводить 'Документ не найден в базе', если результат пустой\n",
    "    \"\"\"\n",
    "    if search_result is None:\n",
    "        'Документ не найден в базе'"
   ]
  },
  {
   "cell_type": "code",
   "execution_count": 4,
   "metadata": {},
   "outputs": [],
   "source": [
    "# Task 1.1 \n",
    "def identify_owner (docs, number):\n",
    "    \"\"\"\n",
    "    Узнать владельца документа по его номеру\n",
    "    \"\"\"\n",
    "    result = 0\n",
    "    for doc in docs:\n",
    "        if doc['number'] == number:\n",
    "            result = 'Владелец документа: ' + doc['name']\n",
    "    if result == 0:\n",
    "        result = 'Документ не найден в базе'\n",
    "    return print(result)"
   ]
  },
  {
   "cell_type": "code",
   "execution_count": 5,
   "metadata": {},
   "outputs": [],
   "source": [
    "# Task 1.2.1 \n",
    "def find_shelf (direcs, number):\n",
    "    \"\"\"\n",
    "    По номеру документа узнать на какой полке он хранится\n",
    "    \"\"\"\n",
    "    result = 0\n",
    "    for shelf, numbers in direcs.items():\n",
    "        if number in numbers:\n",
    "            result = shelf\n",
    "    return result"
   ]
  },
  {
   "cell_type": "code",
   "execution_count": 6,
   "metadata": {},
   "outputs": [],
   "source": [
    "# Task 1.2.2\n",
    "def print_shelf (search_result): \n",
    "    if search_result == 0:\n",
    "        print('Документ не найден в базе')\n",
    "    else:\n",
    "        print('Документ хранится на полке: '+search_result)"
   ]
  },
  {
   "cell_type": "code",
   "execution_count": 7,
   "metadata": {},
   "outputs": [],
   "source": [
    "# Task 1.3\n",
    "def doc_info (docs, direcs):\n",
    "    \"\"\"\n",
    "    выводить тип документа\n",
    "    \"\"\"\n",
    "    for doc in docs:\n",
    "        print(f'№: {doc[\"number\"]}, тип: {doc[\"type\"]}, владелец: {doc[\"name\"]}, полка хранения: {find_shelf(direcs, doc[\"number\"])}')"
   ]
  },
  {
   "cell_type": "code",
   "execution_count": 8,
   "metadata": {},
   "outputs": [],
   "source": [
    "# Task 1.4-5.1\n",
    "def show_shelves(direcs):\n",
    "    shelf_list = str()\n",
    "    for shelf in directories.keys():\n",
    "        shelf_list += shelf+', '\n",
    "    print('Текущий перечень полок: '+shelf_list)"
   ]
  },
  {
   "cell_type": "code",
   "execution_count": 9,
   "metadata": {},
   "outputs": [],
   "source": [
    "# Task 1.4\n",
    "def add_shelf(directories, shelf_name):\n",
    "    \"\"\"\n",
    "    добавить полку, если ее не существует, и вывести список всех полок\n",
    "    \"\"\"\n",
    "    if shelf_name in directories:\n",
    "        print('Такая полка уже существует.')\n",
    "    else:\n",
    "        directories[shelf_name] = []\n",
    "        print('Полка добавлена.')\n",
    "    show_shelves(directories)"
   ]
  },
  {
   "cell_type": "code",
   "execution_count": 10,
   "metadata": {},
   "outputs": [],
   "source": [
    "# Task 1.5\n",
    "def del_shelf(direcs, shelf_name):\n",
    "    \"\"\"\n",
    "    удалить полку, если она пустая, и вывести список всех полок\n",
    "    \"\"\"\n",
    "    if direcs[shelf_name] == []:\n",
    "        del(direcs[shelf_name])\n",
    "          #  print('Полка удалена. ')\n",
    "    else: \n",
    "        print('На полке есть документа, удалите их перед удалением полки. ')\n",
    "    show_shelves(direcs)"
   ]
  },
  {
   "cell_type": "code",
   "execution_count": null,
   "metadata": {},
   "outputs": [],
   "source": [
    "# Task 1 Assemble Main function\n",
    "def main (docs, direcs):\n",
    "    while True:\n",
    "        command_input = input('Введите команду: ')\n",
    "        if command_input == 'p':\n",
    "           identify_owner(documents, input('Введите номер документа: '))\n",
    "        elif command_input == 's':\n",
    "            print_shelf(find_shelf(directories, input('Введите номер документа: ')))\n",
    "          #  print('Документ хранится на полке: '+find_shelf(directories, input('Введите номер документа: ')))\n",
    "        elif command_input == 'l':\n",
    "            doc_info(docs, direcs)\n",
    "        elif command_input == 'ads':\n",
    "            add_shelf(directories, input('Введите номер полки: '))\n",
    "        elif command_input == 'ds':\n",
    "            del_shelf(directories, input('Введите номер полки: '))\n",
    "        elif command_input == 'q':\n",
    "            break\n",
    "\n",
    "main(documents, directories)"
   ]
  },
  {
   "cell_type": "code",
   "execution_count": null,
   "metadata": {},
   "outputs": [],
   "source": []
  }
 ],
 "metadata": {
  "kernelspec": {
   "display_name": "Python 3",
   "language": "python",
   "name": "python3"
  },
  "language_info": {
   "codemirror_mode": {
    "name": "ipython",
    "version": 3
   },
   "file_extension": ".py",
   "mimetype": "text/x-python",
   "name": "python",
   "nbconvert_exporter": "python",
   "pygments_lexer": "ipython3",
   "version": "3.8.5"
  }
 },
 "nbformat": 4,
 "nbformat_minor": 4
}
